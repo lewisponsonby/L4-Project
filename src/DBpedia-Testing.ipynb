{
 "cells": [
  {
   "cell_type": "code",
   "execution_count": 59,
   "id": "5e31de77",
   "metadata": {},
   "outputs": [],
   "source": [
    "import spacy\n",
    "import spacy_dbpedia_spotlight\n",
    "import numpy as np\n",
    "from bs4 import BeautifulSoup\n",
    "import requests"
   ]
  },
  {
   "cell_type": "code",
   "execution_count": 60,
   "id": "fad0fd57",
   "metadata": {},
   "outputs": [
    {
     "data": {
      "text/plain": [
       "<spacy_dbpedia_spotlight.entity_linker.EntityLinker at 0x1e0315a1910>"
      ]
     },
     "execution_count": 60,
     "metadata": {},
     "output_type": "execute_result"
    }
   ],
   "source": [
    "nlp = spacy.load('en_core_web_lg')\n",
    "\n",
    "nlp.add_pipe('dbpedia_spotlight',last=True)"
   ]
  },
  {
   "cell_type": "code",
   "execution_count": 138,
   "id": "41bb1735",
   "metadata": {},
   "outputs": [],
   "source": [
    "text = \"Gary Neville criticises Paul Pogba a lot, but not Jack Grealish.\"\n",
    "doc = nlp(text)"
   ]
  },
  {
   "cell_type": "code",
   "execution_count": 139,
   "id": "c2c9bbc9",
   "metadata": {},
   "outputs": [],
   "source": [
    "entities=[]\n",
    "\n",
    "for ent in doc.ents:\n",
    "    URL=ent._.dbpedia_raw_result['@URI']\n",
    "    start=int(ent._.dbpedia_raw_result['@offset'])\n",
    "    end=int(ent._.dbpedia_raw_result['@offset'])+len(ent._.dbpedia_raw_result['@surfaceForm'])\n",
    "    ent_type=ent._.dbpedia_raw_result['@types'].split(\",\")[-1]\n",
    "    entities.append([URL,start,end,ent_type])\n",
    "\n",
    "    \n"
   ]
  },
  {
   "cell_type": "code",
   "execution_count": 140,
   "id": "11b3baa9",
   "metadata": {},
   "outputs": [
    {
     "name": "stdout",
     "output_type": "stream",
     "text": [
      "['http://dbpedia.org/resource/Gary_Neville', 0, 12, 'DBpedia:SoccerManager']\n",
      "['http://dbpedia.org/resource/Paul_Pogba', 24, 34, 'DBpedia:SoccerPlayer']\n",
      "['http://dbpedia.org/resource/Jack_Grealish', 50, 63, 'DBpedia:SoccerPlayer']\n"
     ]
    }
   ],
   "source": [
    "for ent in entities:\n",
    "    print(ent)"
   ]
  },
  {
   "cell_type": "code",
   "execution_count": 141,
   "id": "d46711b6",
   "metadata": {},
   "outputs": [],
   "source": [
    "abstracts=[]\n",
    "\n",
    "for ent in entities:\n",
    "    URL=ent[0]\n",
    "    page = requests.get(URL)\n",
    "    soup = BeautifulSoup(page.content, 'html.parser')\n",
    "    content = soup.find('p', class_=\"lead\").getText()\n",
    "    if content not in abstracts:\n",
    "        abstracts.append(content)"
   ]
  },
  {
   "cell_type": "code",
   "execution_count": 142,
   "id": "8232074c",
   "metadata": {},
   "outputs": [
    {
     "name": "stdout",
     "output_type": "stream",
     "text": [
      "Gary Alexander Neville (born 18 February 1975) is an English football pundit, coach, and former player who is a co-owner of Salford City. After retiring from football in 2011, Neville went into punditry and was a commentator for Sky Sports, until he took over the head coach position at Valencia in 2015. After being sacked by the club in 2016, he returned to his position as a pundit for Sky Sports later that year. He was also assistant manager for the England national team from 2012 to 2016. \n",
      "\n",
      "Paul Labile Pogba (born 15 March 1993) is a French professional footballer who plays for Premier League club Manchester United and the France national team. He operates primarily as a central midfielder, but can also be deployed as a left winger, attacking midfielder, defensive midfielder and deep-lying playmaker. \n",
      "\n",
      "Jack Peter Grealish (born 10 September 1995) is a professional footballer who plays as a winger or attacking midfielder for Premier League club Manchester City and the England national team. Grealish joined Aston Villa at the age of six, and made his debut for the club in May 2014, following a loan at Notts County. In 2021, Grealish signed for Manchester City in a transfer deal worth £100 million, making him the most expensive English player ever. \n",
      "\n"
     ]
    }
   ],
   "source": [
    "for a in abstracts:\n",
    "    print(a,\"\\n\")"
   ]
  },
  {
   "cell_type": "code",
   "execution_count": null,
   "id": "f36d9a35",
   "metadata": {},
   "outputs": [],
   "source": []
  }
 ],
 "metadata": {
  "kernelspec": {
   "display_name": "Python 3 (ipykernel)",
   "language": "python",
   "name": "python3"
  },
  "language_info": {
   "codemirror_mode": {
    "name": "ipython",
    "version": 3
   },
   "file_extension": ".py",
   "mimetype": "text/x-python",
   "name": "python",
   "nbconvert_exporter": "python",
   "pygments_lexer": "ipython3",
   "version": "3.9.12"
  }
 },
 "nbformat": 4,
 "nbformat_minor": 5
}
