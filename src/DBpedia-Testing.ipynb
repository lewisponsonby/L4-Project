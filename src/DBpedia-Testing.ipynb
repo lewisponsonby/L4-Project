{
 "cells": [
  {
   "cell_type": "code",
   "execution_count": 22,
   "id": "5e31de77",
   "metadata": {},
   "outputs": [],
   "source": [
    "import spacy\n",
    "import spacy_dbpedia_spotlight\n",
    "import numpy as np\n",
    "from spacy import displacy"
   ]
  },
  {
   "cell_type": "code",
   "execution_count": 23,
   "id": "fad0fd57",
   "metadata": {},
   "outputs": [
    {
     "data": {
      "text/plain": [
       "<spacy_dbpedia_spotlight.entity_linker.EntityLinker at 0x2bdd60f15b0>"
      ]
     },
     "execution_count": 23,
     "metadata": {},
     "output_type": "execute_result"
    }
   ],
   "source": [
    "nlp = spacy.load('en_core_web_lg')\n",
    "\n",
    "nlp.add_pipe('dbpedia_spotlight',last=True)"
   ]
  },
  {
   "cell_type": "code",
   "execution_count": 24,
   "id": "41bb1735",
   "metadata": {},
   "outputs": [],
   "source": [
    "text = 'Obama does not like Trump because he caused the Capitol to be raided on independance day. Google banned Trump.'\n",
    "doc = nlp(text)"
   ]
  },
  {
   "cell_type": "code",
   "execution_count": 63,
   "id": "c2c9bbc9",
   "metadata": {},
   "outputs": [],
   "source": [
    "entities=[]\n",
    "\n",
    "for ent in doc.ents:\n",
    "    URL=ent._.dbpedia_raw_result['@URI']\n",
    "    start=int(ent._.dbpedia_raw_result['@offset'])\n",
    "    end=int(ent._.dbpedia_raw_result['@offset'])+len(ent._.dbpedia_raw_result['@surfaceForm'])\n",
    "    ent_type=ent._.dbpedia_raw_result['@types'].split(\",\")[-1]\n",
    "    entities.append([URL,start,end,ent_type])\n",
    "    \n"
   ]
  },
  {
   "cell_type": "code",
   "execution_count": 69,
   "id": "11b3baa9",
   "metadata": {},
   "outputs": [
    {
     "name": "stdout",
     "output_type": "stream",
     "text": [
      "OBAMA does not like TRUMP because he caused the CAPITOL to be raided on independance day. GOOGLE banned TRUMP.\n",
      "http://dbpedia.org/resource/Barack_Obama\n",
      "http://dbpedia.org/resource/Donald_Trump\n",
      "http://dbpedia.org/resource/United_States_Capitol\n",
      "http://dbpedia.org/resource/Google\n",
      "http://dbpedia.org/resource/Donald_Trump\n"
     ]
    }
   ],
   "source": [
    "for ent in entities:\n",
    "    text = text[:ent[1]] + text[ent[1]:ent[2]].upper() + text[ent[2]:]\n",
    "\n",
    "print(text)\n",
    "for ent in entities:\n",
    "    print(ent[0])"
   ]
  },
  {
   "cell_type": "code",
   "execution_count": null,
   "id": "d46711b6",
   "metadata": {},
   "outputs": [],
   "source": []
  }
 ],
 "metadata": {
  "kernelspec": {
   "display_name": "Python 3 (ipykernel)",
   "language": "python",
   "name": "python3"
  },
  "language_info": {
   "codemirror_mode": {
    "name": "ipython",
    "version": 3
   },
   "file_extension": ".py",
   "mimetype": "text/x-python",
   "name": "python",
   "nbconvert_exporter": "python",
   "pygments_lexer": "ipython3",
   "version": "3.9.12"
  }
 },
 "nbformat": 4,
 "nbformat_minor": 5
}
