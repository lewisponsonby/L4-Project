{
 "cells": [
  {
   "cell_type": "code",
   "execution_count": 1,
   "id": "5e31de77",
   "metadata": {},
   "outputs": [],
   "source": [
    "import spacy\n",
    "import spacy_dbpedia_spotlight\n",
    "import numpy as np\n",
    "from bs4 import BeautifulSoup\n",
    "import requests"
   ]
  },
  {
   "cell_type": "code",
   "execution_count": 4,
   "id": "fad0fd57",
   "metadata": {},
   "outputs": [
    {
     "data": {
      "text/plain": [
       "<spacy_dbpedia_spotlight.entity_linker.EntityLinker at 0x1e63cdb78e0>"
      ]
     },
     "execution_count": 4,
     "metadata": {},
     "output_type": "execute_result"
    }
   ],
   "source": [
    "nlp = spacy.load('en_core_web_lg')\n",
    "\n",
    "nlp.add_pipe('dbpedia_spotlight', config={'dbpedia_rest_endpoint': 'http://localhost:2222/rest'})"
   ]
  },
  {
   "cell_type": "code",
   "execution_count": 6,
   "id": "41bb1735",
   "metadata": {},
   "outputs": [
    {
     "name": "stdout",
     "output_type": "stream",
     "text": [
      "When\n",
      "Eden\n",
      "Hazard\n",
      "moved\n",
      "to\n",
      "Chelsea\n",
      ",\n",
      "he\n",
      "was\n",
      "far\n",
      "better\n",
      "than\n",
      "Juan\n",
      "Mata\n",
      "and\n",
      "also\n",
      "Willian\n",
      ".\n",
      "\n",
      " \n",
      "yeah\n"
     ]
    }
   ],
   "source": [
    "text = \"When Eden Hazard moved to Chelsea, he was far better than Juan Mata and also Willian.\\n yeah\"\n",
    "doc = nlp(text)\n",
    "for token in doc:\n",
    "    print(token.text)"
   ]
  },
  {
   "cell_type": "code",
   "execution_count": 7,
   "id": "c2c9bbc9",
   "metadata": {},
   "outputs": [],
   "source": [
    "entities=[]\n",
    "\n",
    "for ent in doc.ents:\n",
    "    URL=ent._.dbpedia_raw_result['@URI']\n",
    "    start=int(ent._.dbpedia_raw_result['@offset'])\n",
    "    end=int(ent._.dbpedia_raw_result['@offset'])+len(ent._.dbpedia_raw_result['@surfaceForm'])\n",
    "    ent_type=ent._.dbpedia_raw_result['@types'].split(\",\")[-1]\n",
    "    entities.append([URL,start,end,ent_type])\n"
   ]
  },
  {
   "cell_type": "code",
   "execution_count": 8,
   "id": "11b3baa9",
   "metadata": {},
   "outputs": [
    {
     "name": "stdout",
     "output_type": "stream",
     "text": [
      "[['http://dbpedia.org/resource/Eden_Hazard', 5, 16, 'DBpedia:SoccerPlayer'], ['http://dbpedia.org/resource/Chelsea_F.C.', 26, 33, 'DBpedia:SoccerClub'], ['http://dbpedia.org/resource/Juan_Mata', 58, 67, 'DBpedia:SoccerPlayer'], ['http://dbpedia.org/resource/Willian_(footballer,_born_1988)', 77, 84, 'DBpedia:SoccerPlayer']]\n"
     ]
    }
   ],
   "source": [
    "print(entities)"
   ]
  },
  {
   "cell_type": "code",
   "execution_count": 38,
   "id": "d46711b6",
   "metadata": {},
   "outputs": [],
   "source": [
    "abstracts={}\n",
    "\n",
    "for ent in entities:\n",
    "    URL=ent[0]\n",
    "    page = requests.get(URL)\n",
    "    soup = BeautifulSoup(page.content, 'html.parser')\n",
    "    content = soup.find('p', class_=\"lead\").getText()\n",
    "    if content not in abstracts:\n",
    "        abstracts[ent[0]]=content"
   ]
  },
  {
   "cell_type": "code",
   "execution_count": 39,
   "id": "83f53321",
   "metadata": {},
   "outputs": [
    {
     "name": "stdout",
     "output_type": "stream",
     "text": [
      "['When ', 'Eden Hazard', ' moved to ', 'Chelsea', ', he was far better than ', 'Juan Mata', ' and also ', 'Willian', '.']\n"
     ]
    }
   ],
   "source": [
    "indexed=[]\n",
    "prev=0\n",
    "for ent in entities:\n",
    "    indexed.append(text[prev:ent[1]])\n",
    "    indexed.append(text[ent[1]:ent[2]])\n",
    "    prev=ent[2]\n",
    "indexed.append(text[prev:])\n",
    "    \n",
    "print(indexed)"
   ]
  },
  {
   "cell_type": "code",
   "execution_count": null,
   "id": "e225c28c",
   "metadata": {},
   "outputs": [],
   "source": []
  }
 ],
 "metadata": {
  "kernelspec": {
   "display_name": "Python 3 (ipykernel)",
   "language": "python",
   "name": "python3"
  },
  "language_info": {
   "codemirror_mode": {
    "name": "ipython",
    "version": 3
   },
   "file_extension": ".py",
   "mimetype": "text/x-python",
   "name": "python",
   "nbconvert_exporter": "python",
   "pygments_lexer": "ipython3",
   "version": "3.9.12"
  }
 },
 "nbformat": 4,
 "nbformat_minor": 5
}
