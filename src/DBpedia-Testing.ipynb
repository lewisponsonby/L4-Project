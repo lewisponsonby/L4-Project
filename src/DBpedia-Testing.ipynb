{
 "cells": [
  {
   "cell_type": "code",
   "execution_count": 1,
   "id": "5e31de77",
   "metadata": {},
   "outputs": [],
   "source": [
    "import spacy\n",
    "import spacy_dbpedia_spotlight\n",
    "import numpy as np\n",
    "from bs4 import BeautifulSoup\n",
    "import requests"
   ]
  },
  {
   "cell_type": "code",
   "execution_count": 2,
   "id": "fad0fd57",
   "metadata": {},
   "outputs": [
    {
     "name": "stderr",
     "output_type": "stream",
     "text": [
      "C:\\Users\\User\\anaconda3\\lib\\site-packages\\spacy\\util.py:837: UserWarning: [W095] Model 'en_core_web_lg' (3.4.0) was trained with spaCy v3.4 and may not be 100% compatible with the current version (3.3.1). If you see errors or degraded performance, download a newer compatible model or retrain your custom model with the current spaCy version. For more details and available updates, run: python -m spacy validate\n",
      "  warnings.warn(warn_msg)\n"
     ]
    },
    {
     "data": {
      "text/plain": [
       "<spacy_dbpedia_spotlight.entity_linker.EntityLinker at 0x1967ca20130>"
      ]
     },
     "execution_count": 2,
     "metadata": {},
     "output_type": "execute_result"
    }
   ],
   "source": [
    "nlp = spacy.load('en_core_web_lg')\n",
    "\n",
    "nlp.add_pipe('dbpedia_spotlight',last=True)"
   ]
  },
  {
   "cell_type": "code",
   "execution_count": 3,
   "id": "41bb1735",
   "metadata": {},
   "outputs": [],
   "source": [
    "text = \"Barack Obama disliked Donald Trump\"\n",
    "doc = nlp(text)"
   ]
  },
  {
   "cell_type": "code",
   "execution_count": 4,
   "id": "c2c9bbc9",
   "metadata": {},
   "outputs": [],
   "source": [
    "entities=[]\n",
    "\n",
    "for ent in doc.ents:\n",
    "    URL=ent._.dbpedia_raw_result['@URI']\n",
    "    start=int(ent._.dbpedia_raw_result['@offset'])\n",
    "    end=int(ent._.dbpedia_raw_result['@offset'])+len(ent._.dbpedia_raw_result['@surfaceForm'])\n",
    "    ent_type=ent._.dbpedia_raw_result['@types'].split(\",\")[-1]\n",
    "    entities.append([URL,start,end,ent_type])\n",
    "\n",
    "    \n"
   ]
  },
  {
   "cell_type": "code",
   "execution_count": 5,
   "id": "11b3baa9",
   "metadata": {},
   "outputs": [
    {
     "name": "stdout",
     "output_type": "stream",
     "text": [
      "['http://dbpedia.org/resource/Barack_Obama', 0, 12, 'DBpedia:Politician']\n",
      "['http://dbpedia.org/resource/Donald_Trump', 22, 34, 'DBpedia:Politician']\n"
     ]
    }
   ],
   "source": [
    "for ent in entities:\n",
    "    print(ent)"
   ]
  },
  {
   "cell_type": "code",
   "execution_count": 6,
   "id": "d46711b6",
   "metadata": {},
   "outputs": [],
   "source": [
    "abstracts=[]\n",
    "\n",
    "for ent in entities:\n",
    "    URL=ent[0]\n",
    "    page = requests.get(URL)\n",
    "    soup = BeautifulSoup(page.content, 'html.parser')\n",
    "    content = soup.find('p', class_=\"lead\").getText()\n",
    "    if content not in abstracts:\n",
    "        abstracts.append(content)"
   ]
  },
  {
   "cell_type": "code",
   "execution_count": 7,
   "id": "8232074c",
   "metadata": {},
   "outputs": [
    {
     "name": "stdout",
     "output_type": "stream",
     "text": [
      "Barack Hussein Obama II (/bəˈrɑːk huːˈseɪn oʊˈbɑːmə/ bə-RAHK hoo-SAYN oh-BAH-mə; born August 4, 1961) is an American politician who served as the 44th president of the United States from 2009 to 2017. A member of the Democratic Party, Obama was the first African-American president of the United States. He previously served as a U.S. senator from Illinois from 2005 to 2008 and as an Illinois state senator from 1997 to 2004. \n",
      "\n",
      "Donald John Trump (born June 14, 1946) is an American politician, media personality, and businessman who served as the 45th president of the United States from 2017 to 2021. Born and raised in Queens, New York City, Trump graduated from the Wharton School of the University of Pennsylvania with a bachelor's degree in 1968. He became president of his father Fred Trump's real estate business in 1971 and renamed it The Trump Organization. Trump expanded the company's operations to building and renovating skyscrapers, hotels, casinos, and golf courses. He later started various side ventures, mostly by licensing his name. From 2004 to 2015, he co-produced and hosted the reality television series The Apprentice. Trump and his businesses have been involved in more than 4,000 state and federal lega \n",
      "\n"
     ]
    }
   ],
   "source": [
    "for a in abstracts:\n",
    "    print(a,\"\\n\")"
   ]
  },
  {
   "cell_type": "code",
   "execution_count": null,
   "id": "f36d9a35",
   "metadata": {},
   "outputs": [],
   "source": []
  }
 ],
 "metadata": {
  "kernelspec": {
   "display_name": "Python 3 (ipykernel)",
   "language": "python",
   "name": "python3"
  },
  "language_info": {
   "codemirror_mode": {
    "name": "ipython",
    "version": 3
   },
   "file_extension": ".py",
   "mimetype": "text/x-python",
   "name": "python",
   "nbconvert_exporter": "python",
   "pygments_lexer": "ipython3",
   "version": "3.9.12"
  }
 },
 "nbformat": 4,
 "nbformat_minor": 5
}
