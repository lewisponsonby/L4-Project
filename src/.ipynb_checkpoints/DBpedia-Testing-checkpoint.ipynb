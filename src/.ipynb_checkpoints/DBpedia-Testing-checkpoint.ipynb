{
 "cells": [
  {
   "cell_type": "code",
   "execution_count": null,
   "id": "184c122c",
   "metadata": {},
   "outputs": [
    {
     "name": "stdout",
     "output_type": "stream",
     "text": [
      "Collecting spacy_dbpedia_spotlight\n",
      "  Downloading spacy_dbpedia_spotlight-0.2.4.tar.gz (14 kB)\n",
      "Requirement already satisfied: spacy>=3 in c:\\users\\user\\miniconda3\\lib\\site-packages (from spacy_dbpedia_spotlight) (3.0.6)\n",
      "Collecting loguru\n",
      "  Downloading loguru-0.6.0-py3-none-any.whl (58 kB)\n",
      "Requirement already satisfied: requests<3.0.0,>=2.13.0 in c:\\users\\user\\miniconda3\\lib\\site-packages (from spacy>=3->spacy_dbpedia_spotlight) (2.27.1)\n",
      "Requirement already satisfied: numpy>=1.15.0 in c:\\users\\user\\miniconda3\\lib\\site-packages (from spacy>=3->spacy_dbpedia_spotlight) (1.21.5)\n",
      "Requirement already satisfied: setuptools in c:\\users\\user\\miniconda3\\lib\\site-packages (from spacy>=3->spacy_dbpedia_spotlight) (58.0.4)\n",
      "Requirement already satisfied: typing-extensions<4.0.0.0,>=3.7.4 in c:\\users\\user\\miniconda3\\lib\\site-packages (from spacy>=3->spacy_dbpedia_spotlight) (3.10.0.2)\n",
      "Requirement already satisfied: preshed<3.1.0,>=3.0.2 in c:\\users\\user\\miniconda3\\lib\\site-packages (from spacy>=3->spacy_dbpedia_spotlight) (3.0.6)\n",
      "Requirement already satisfied: jinja2 in c:\\users\\user\\miniconda3\\lib\\site-packages (from spacy>=3->spacy_dbpedia_spotlight) (3.0.2)\n",
      "Requirement already satisfied: typer<0.4.0,>=0.3.0 in c:\\users\\user\\miniconda3\\lib\\site-packages (from spacy>=3->spacy_dbpedia_spotlight) (0.3.2)\n",
      "Requirement already satisfied: pathy>=0.3.5 in c:\\users\\user\\miniconda3\\lib\\site-packages (from spacy>=3->spacy_dbpedia_spotlight) (0.6.1)\n",
      "Requirement already satisfied: blis<0.8.0,>=0.4.0 in c:\\users\\user\\miniconda3\\lib\\site-packages (from spacy>=3->spacy_dbpedia_spotlight) (0.7.5)\n",
      "Requirement already satisfied: spacy-legacy<3.1.0,>=3.0.4 in c:\\users\\user\\miniconda3\\lib\\site-packages (from spacy>=3->spacy_dbpedia_spotlight) (3.0.9)\n",
      "Requirement already satisfied: packaging>=20.0 in c:\\users\\user\\miniconda3\\lib\\site-packages (from spacy>=3->spacy_dbpedia_spotlight) (21.3)\n",
      "Requirement already satisfied: pydantic<1.8.0,>=1.7.1 in c:\\users\\user\\miniconda3\\lib\\site-packages (from spacy>=3->spacy_dbpedia_spotlight) (1.7.4)\n",
      "Requirement already satisfied: cymem<2.1.0,>=2.0.2 in c:\\users\\user\\miniconda3\\lib\\site-packages (from spacy>=3->spacy_dbpedia_spotlight) (2.0.6)\n",
      "Requirement already satisfied: srsly<3.0.0,>=2.4.1 in c:\\users\\user\\miniconda3\\lib\\site-packages (from spacy>=3->spacy_dbpedia_spotlight) (2.4.2)\n",
      "Requirement already satisfied: murmurhash<1.1.0,>=0.28.0 in c:\\users\\user\\miniconda3\\lib\\site-packages (from spacy>=3->spacy_dbpedia_spotlight) (1.0.6)\n",
      "Requirement already satisfied: catalogue<2.1.0,>=2.0.3 in c:\\users\\user\\miniconda3\\lib\\site-packages (from spacy>=3->spacy_dbpedia_spotlight) (2.0.6)\n",
      "Requirement already satisfied: tqdm<5.0.0,>=4.38.0 in c:\\users\\user\\miniconda3\\lib\\site-packages (from spacy>=3->spacy_dbpedia_spotlight) (4.62.3)\n",
      "Requirement already satisfied: thinc<8.1.0,>=8.0.3 in c:\\users\\user\\miniconda3\\lib\\site-packages (from spacy>=3->spacy_dbpedia_spotlight) (8.0.13)\n",
      "Requirement already satisfied: wasabi<1.1.0,>=0.8.1 in c:\\users\\user\\miniconda3\\lib\\site-packages (from spacy>=3->spacy_dbpedia_spotlight) (0.9.0)\n",
      "Requirement already satisfied: zipp>=0.5 in c:\\users\\user\\miniconda3\\lib\\site-packages (from catalogue<2.1.0,>=2.0.3->spacy>=3->spacy_dbpedia_spotlight) (3.7.0)\n",
      "Requirement already satisfied: pyparsing!=3.0.5,>=2.0.2 in c:\\users\\user\\miniconda3\\lib\\site-packages (from packaging>=20.0->spacy>=3->spacy_dbpedia_spotlight) (3.0.4)\n",
      "Requirement already satisfied: smart-open<6.0.0,>=5.0.0 in c:\\users\\user\\miniconda3\\lib\\site-packages (from pathy>=0.3.5->spacy>=3->spacy_dbpedia_spotlight) (5.2.1)\n",
      "Requirement already satisfied: certifi>=2017.4.17 in c:\\users\\user\\miniconda3\\lib\\site-packages (from requests<3.0.0,>=2.13.0->spacy>=3->spacy_dbpedia_spotlight) (2021.10.8)\n",
      "Requirement already satisfied: idna<4,>=2.5 in c:\\users\\user\\miniconda3\\lib\\site-packages (from requests<3.0.0,>=2.13.0->spacy>=3->spacy_dbpedia_spotlight) (3.3)\n",
      "Requirement already satisfied: charset-normalizer~=2.0.0 in c:\\users\\user\\miniconda3\\lib\\site-packages (from requests<3.0.0,>=2.13.0->spacy>=3->spacy_dbpedia_spotlight) (2.0.4)\n",
      "Requirement already satisfied: urllib3<1.27,>=1.21.1 in c:\\users\\user\\miniconda3\\lib\\site-packages (from requests<3.0.0,>=2.13.0->spacy>=3->spacy_dbpedia_spotlight) (1.26.8)\n",
      "Requirement already satisfied: colorama in c:\\users\\user\\miniconda3\\lib\\site-packages (from tqdm<5.0.0,>=4.38.0->spacy>=3->spacy_dbpedia_spotlight) (0.4.4)\n",
      "Requirement already satisfied: click<7.2.0,>=7.1.1 in c:\\users\\user\\miniconda3\\lib\\site-packages (from typer<0.4.0,>=0.3.0->spacy>=3->spacy_dbpedia_spotlight) (7.1.2)\n",
      "Requirement already satisfied: MarkupSafe>=2.0 in c:\\users\\user\\miniconda3\\lib\\site-packages (from jinja2->spacy>=3->spacy_dbpedia_spotlight) (2.0.1)\n",
      "Collecting win32-setctime>=1.0.0\n",
      "  Downloading win32_setctime-1.1.0-py3-none-any.whl (3.6 kB)\n",
      "Building wheels for collected packages: spacy-dbpedia-spotlight\n",
      "  Building wheel for spacy-dbpedia-spotlight (setup.py): started\n",
      "  Building wheel for spacy-dbpedia-spotlight (setup.py): finished with status 'done'\n",
      "  Created wheel for spacy-dbpedia-spotlight: filename=spacy_dbpedia_spotlight-0.2.4-py3-none-any.whl size=11950 sha256=452a360ee521232240ddc7e7d8f74a0ad04f676d56ddc24f8122dda5a3b5c31d\n",
      "  Stored in directory: c:\\users\\user\\appdata\\local\\pip\\cache\\wheels\\1c\\09\\45\\e713ad4388810ab53ed3680a1a6cafcb82585189c1885362cd\n",
      "Successfully built spacy-dbpedia-spotlight\n",
      "Installing collected packages: win32-setctime, loguru, spacy-dbpedia-spotlight\n",
      "Successfully installed loguru-0.6.0 spacy-dbpedia-spotlight-0.2.4 win32-setctime-1.1.0\n",
      "Requirement already satisfied: spacy in c:\\users\\user\\miniconda3\\lib\\site-packages (3.0.6)\n",
      "Requirement already satisfied: catalogue<2.1.0,>=2.0.3 in c:\\users\\user\\miniconda3\\lib\\site-packages (from spacy) (2.0.6)\n",
      "Requirement already satisfied: requests<3.0.0,>=2.13.0 in c:\\users\\user\\miniconda3\\lib\\site-packages (from spacy) (2.27.1)\n",
      "Requirement already satisfied: blis<0.8.0,>=0.4.0 in c:\\users\\user\\miniconda3\\lib\\site-packages (from spacy) (0.7.5)\n",
      "Requirement already satisfied: thinc<8.1.0,>=8.0.3 in c:\\users\\user\\miniconda3\\lib\\site-packages (from spacy) (8.0.13)\n",
      "Requirement already satisfied: pathy>=0.3.5 in c:\\users\\user\\miniconda3\\lib\\site-packages (from spacy) (0.6.1)\n",
      "Requirement already satisfied: cymem<2.1.0,>=2.0.2 in c:\\users\\user\\miniconda3\\lib\\site-packages (from spacy) (2.0.6)\n",
      "Requirement already satisfied: jinja2 in c:\\users\\user\\miniconda3\\lib\\site-packages (from spacy) (3.0.2)\n",
      "Requirement already satisfied: wasabi<1.1.0,>=0.8.1 in c:\\users\\user\\miniconda3\\lib\\site-packages (from spacy) (0.9.0)\n",
      "Requirement already satisfied: srsly<3.0.0,>=2.4.1 in c:\\users\\user\\miniconda3\\lib\\site-packages (from spacy) (2.4.2)\n",
      "Requirement already satisfied: numpy>=1.15.0 in c:\\users\\user\\miniconda3\\lib\\site-packages (from spacy) (1.21.5)\n",
      "Requirement already satisfied: pydantic<1.8.0,>=1.7.1 in c:\\users\\user\\miniconda3\\lib\\site-packages (from spacy) (1.7.4)\n",
      "Requirement already satisfied: setuptools in c:\\users\\user\\miniconda3\\lib\\site-packages (from spacy) (58.0.4)\n",
      "Requirement already satisfied: typing-extensions<4.0.0.0,>=3.7.4 in c:\\users\\user\\miniconda3\\lib\\site-packages (from spacy) (3.10.0.2)\n",
      "Requirement already satisfied: packaging>=20.0 in c:\\users\\user\\miniconda3\\lib\\site-packages (from spacy) (21.3)\n",
      "Requirement already satisfied: spacy-legacy<3.1.0,>=3.0.4 in c:\\users\\user\\miniconda3\\lib\\site-packages (from spacy) (3.0.9)\n",
      "Requirement already satisfied: preshed<3.1.0,>=3.0.2 in c:\\users\\user\\miniconda3\\lib\\site-packages (from spacy) (3.0.6)\n",
      "Requirement already satisfied: murmurhash<1.1.0,>=0.28.0 in c:\\users\\user\\miniconda3\\lib\\site-packages (from spacy) (1.0.6)\n",
      "Requirement already satisfied: typer<0.4.0,>=0.3.0 in c:\\users\\user\\miniconda3\\lib\\site-packages (from spacy) (0.3.2)\n",
      "Requirement already satisfied: tqdm<5.0.0,>=4.38.0 in c:\\users\\user\\miniconda3\\lib\\site-packages (from spacy) (4.62.3)\n",
      "Requirement already satisfied: zipp>=0.5 in c:\\users\\user\\miniconda3\\lib\\site-packages (from catalogue<2.1.0,>=2.0.3->spacy) (3.7.0)\n",
      "Requirement already satisfied: pyparsing!=3.0.5,>=2.0.2 in c:\\users\\user\\miniconda3\\lib\\site-packages (from packaging>=20.0->spacy) (3.0.4)\n",
      "Requirement already satisfied: smart-open<6.0.0,>=5.0.0 in c:\\users\\user\\miniconda3\\lib\\site-packages (from pathy>=0.3.5->spacy) (5.2.1)\n",
      "Requirement already satisfied: charset-normalizer~=2.0.0 in c:\\users\\user\\miniconda3\\lib\\site-packages (from requests<3.0.0,>=2.13.0->spacy) (2.0.4)\n",
      "Requirement already satisfied: idna<4,>=2.5 in c:\\users\\user\\miniconda3\\lib\\site-packages (from requests<3.0.0,>=2.13.0->spacy) (3.3)\n",
      "Requirement already satisfied: certifi>=2017.4.17 in c:\\users\\user\\miniconda3\\lib\\site-packages (from requests<3.0.0,>=2.13.0->spacy) (2021.10.8)\n",
      "Requirement already satisfied: urllib3<1.27,>=1.21.1 in c:\\users\\user\\miniconda3\\lib\\site-packages (from requests<3.0.0,>=2.13.0->spacy) (1.26.8)\n",
      "Requirement already satisfied: colorama in c:\\users\\user\\miniconda3\\lib\\site-packages (from tqdm<5.0.0,>=4.38.0->spacy) (0.4.4)\n",
      "Requirement already satisfied: click<7.2.0,>=7.1.1 in c:\\users\\user\\miniconda3\\lib\\site-packages (from typer<0.4.0,>=0.3.0->spacy) (7.1.2)\n",
      "Requirement already satisfied: MarkupSafe>=2.0 in c:\\users\\user\\miniconda3\\lib\\site-packages (from jinja2->spacy) (2.0.1)\n"
     ]
    }
   ],
   "source": [
    "!pip install spacy_dbpedia_spotlight\n",
    "!pip install spacy\n",
    "!python -m spacy download en_core_web_lg"
   ]
  },
  {
   "cell_type": "code",
   "execution_count": null,
   "id": "fe78c9a1",
   "metadata": {},
   "outputs": [],
   "source": [
    "import spacy_dbpedia_spotlight\n",
    "import spacy"
   ]
  },
  {
   "cell_type": "code",
   "execution_count": null,
   "id": "82bea772",
   "metadata": {},
   "outputs": [],
   "source": [
    "nlp = spacy.load('en_core_web_lg')\n",
    "\n",
    "nlp.add_pipe('dbpedia_spotlight')"
   ]
  },
  {
   "cell_type": "code",
   "execution_count": null,
   "id": "df1f312c",
   "metadata": {},
   "outputs": [],
   "source": []
  }
 ],
 "metadata": {
  "kernelspec": {
   "display_name": "Python 3 (ipykernel)",
   "language": "python",
   "name": "python3"
  },
  "language_info": {
   "codemirror_mode": {
    "name": "ipython",
    "version": 3
   },
   "file_extension": ".py",
   "mimetype": "text/x-python",
   "name": "python",
   "nbconvert_exporter": "python",
   "pygments_lexer": "ipython3",
   "version": "3.7.11"
  }
 },
 "nbformat": 4,
 "nbformat_minor": 5
}
