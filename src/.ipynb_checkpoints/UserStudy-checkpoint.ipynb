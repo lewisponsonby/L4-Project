{
 "cells": [
  {
   "cell_type": "code",
   "execution_count": 11,
   "id": "b3130a46",
   "metadata": {},
   "outputs": [],
   "source": [
    "import os\n",
    "import pandas as pd"
   ]
  },
  {
   "cell_type": "code",
   "execution_count": 12,
   "id": "58c7fe97",
   "metadata": {},
   "outputs": [],
   "source": [
    "path = \"C:/Users/User/OneDrive - University of Glasgow/University Year 4/Individual Project/2464980P-L4-Project/src/userStudies\""
   ]
  },
  {
   "cell_type": "code",
   "execution_count": 13,
   "id": "74b24f5a",
   "metadata": {},
   "outputs": [],
   "source": [
    "os.chdir(path)"
   ]
  },
  {
   "cell_type": "code",
   "execution_count": 14,
   "id": "5d7e3c9f",
   "metadata": {},
   "outputs": [],
   "source": [
    "correct_answers=[12,8,14,17,29,15,8,5,9,3,2,4]"
   ]
  },
  {
   "cell_type": "code",
   "execution_count": 15,
   "id": "199f5a2a",
   "metadata": {},
   "outputs": [
    {
     "name": "stdout",
     "output_type": "stream",
     "text": [
      "baseline1\n",
      "baseline2\n",
      "noabstracts1\n",
      "noabstracts2\n",
      "nohighlighting1\n",
      "nohighlighting2\n",
      "noplots1\n",
      "noplots2\n",
      "nosearch1\n",
      "nosearch2\n"
     ]
    }
   ],
   "source": [
    "attempts=[]\n",
    "\n",
    "for file in os.listdir():\n",
    "    file_path = f\"{path}\\{file}\"\n",
    "    print(file)\n",
    "    with open(file_path, 'r') as f:\n",
    "        attempts.append(f.read().split(\"\\n\"))\n",
    "\n",
    "pandas_list=[]\n",
    "\n",
    "for i in range(len(attempts)):\n",
    "    answer_list=[]\n",
    "    time_list=[]\n",
    "    click_list=[]\n",
    "    \n",
    "    attempts[i]=[row.split(\" \")[1:] for row in attempts[i] if \"UserStudy\" not in row and \"START\" not in row][:-1]\n",
    "    for j in range(len(attempts[i])):\n",
    "        attempts[i][j][0]=attempts[i][j][0].split(\":\")\n",
    "        if j==0:\n",
    "            start=(int(attempts[i][j][0][0])*60*60)+(int(attempts[i][j][0][1])*60)+int(attempts[i][j][0][2])\n",
    "        attempts[i][j][0]=(int(attempts[i][j][0][0])*60*60)+(int(attempts[i][j][0][1])*60)+int(attempts[i][j][0][2])-start\n",
    "        \n",
    "    clicks=1\n",
    "    time=0\n",
    "    answer=0\n",
    "    for click in attempts[i]:\n",
    "        if \"Q\" in click[1]:\n",
    "            answer_list.append(int(click[1].split(\":\")[1]))\n",
    "            time_list.append(int(click[0]-time))\n",
    "            click_list.append(int(clicks))\n",
    "            clicks=0\n",
    "        clicks+=1\n",
    "        time=click[0]\n",
    "    \n",
    "    attempt_pd=pd.DataFrame({'Correct':correct_answers,'Answer':answer_list, 'Time':time_list, 'Click':click_list})\n",
    "    attempt_pd['Error']=(attempt_pd['Correct']-attempt_pd['Answer']).abs()\n",
    "    attempt_pd=attempt_pd.drop(columns=['Correct','Answer'],axis=1)\n",
    "    pandas_list.append(attempt_pd)"
   ]
  },
  {
   "cell_type": "code",
   "execution_count": 16,
   "id": "76b73e62",
   "metadata": {},
   "outputs": [
    {
     "data": {
      "text/html": [
       "<div>\n",
       "<style scoped>\n",
       "    .dataframe tbody tr th:only-of-type {\n",
       "        vertical-align: middle;\n",
       "    }\n",
       "\n",
       "    .dataframe tbody tr th {\n",
       "        vertical-align: top;\n",
       "    }\n",
       "\n",
       "    .dataframe thead th {\n",
       "        text-align: right;\n",
       "    }\n",
       "</style>\n",
       "<table border=\"1\" class=\"dataframe\">\n",
       "  <thead>\n",
       "    <tr style=\"text-align: right;\">\n",
       "      <th></th>\n",
       "      <th>Time</th>\n",
       "      <th>Click</th>\n",
       "      <th>Error</th>\n",
       "    </tr>\n",
       "  </thead>\n",
       "  <tbody>\n",
       "    <tr>\n",
       "      <th>0</th>\n",
       "      <td>23.0</td>\n",
       "      <td>3.0</td>\n",
       "      <td>0.0</td>\n",
       "    </tr>\n",
       "    <tr>\n",
       "      <th>1</th>\n",
       "      <td>16.0</td>\n",
       "      <td>3.0</td>\n",
       "      <td>1.0</td>\n",
       "    </tr>\n",
       "    <tr>\n",
       "      <th>2</th>\n",
       "      <td>17.0</td>\n",
       "      <td>3.0</td>\n",
       "      <td>4.0</td>\n",
       "    </tr>\n",
       "    <tr>\n",
       "      <th>3</th>\n",
       "      <td>79.5</td>\n",
       "      <td>3.0</td>\n",
       "      <td>0.0</td>\n",
       "    </tr>\n",
       "    <tr>\n",
       "      <th>4</th>\n",
       "      <td>126.0</td>\n",
       "      <td>3.5</td>\n",
       "      <td>0.5</td>\n",
       "    </tr>\n",
       "    <tr>\n",
       "      <th>5</th>\n",
       "      <td>53.5</td>\n",
       "      <td>3.0</td>\n",
       "      <td>0.5</td>\n",
       "    </tr>\n",
       "    <tr>\n",
       "      <th>6</th>\n",
       "      <td>13.5</td>\n",
       "      <td>3.0</td>\n",
       "      <td>0.0</td>\n",
       "    </tr>\n",
       "    <tr>\n",
       "      <th>7</th>\n",
       "      <td>10.0</td>\n",
       "      <td>3.0</td>\n",
       "      <td>0.0</td>\n",
       "    </tr>\n",
       "    <tr>\n",
       "      <th>8</th>\n",
       "      <td>10.5</td>\n",
       "      <td>3.0</td>\n",
       "      <td>0.0</td>\n",
       "    </tr>\n",
       "    <tr>\n",
       "      <th>9</th>\n",
       "      <td>6.5</td>\n",
       "      <td>2.0</td>\n",
       "      <td>0.0</td>\n",
       "    </tr>\n",
       "    <tr>\n",
       "      <th>10</th>\n",
       "      <td>11.0</td>\n",
       "      <td>4.0</td>\n",
       "      <td>0.0</td>\n",
       "    </tr>\n",
       "    <tr>\n",
       "      <th>11</th>\n",
       "      <td>7.0</td>\n",
       "      <td>3.5</td>\n",
       "      <td>0.0</td>\n",
       "    </tr>\n",
       "  </tbody>\n",
       "</table>\n",
       "</div>"
      ],
      "text/plain": [
       "     Time  Click  Error\n",
       "0    23.0    3.0    0.0\n",
       "1    16.0    3.0    1.0\n",
       "2    17.0    3.0    4.0\n",
       "3    79.5    3.0    0.0\n",
       "4   126.0    3.5    0.5\n",
       "5    53.5    3.0    0.5\n",
       "6    13.5    3.0    0.0\n",
       "7    10.0    3.0    0.0\n",
       "8    10.5    3.0    0.0\n",
       "9     6.5    2.0    0.0\n",
       "10   11.0    4.0    0.0\n",
       "11    7.0    3.5    0.0"
      ]
     },
     "execution_count": 16,
     "metadata": {},
     "output_type": "execute_result"
    }
   ],
   "source": [
    "baselines = [pandas_list[0],pandas_list[1]]\n",
    "baselines = pd.concat([each.stack() for each in baselines],axis=1)\\\n",
    "             .apply(lambda x:x.mean(),axis=1)\\\n",
    "             .unstack()\n",
    "baselines"
   ]
  },
  {
   "cell_type": "code",
   "execution_count": 17,
   "id": "a34182d7",
   "metadata": {},
   "outputs": [
    {
     "name": "stdout",
     "output_type": "stream",
     "text": [
      "Entity Abstracts\n"
     ]
    },
    {
     "data": {
      "text/html": [
       "<div>\n",
       "<style scoped>\n",
       "    .dataframe tbody tr th:only-of-type {\n",
       "        vertical-align: middle;\n",
       "    }\n",
       "\n",
       "    .dataframe tbody tr th {\n",
       "        vertical-align: top;\n",
       "    }\n",
       "\n",
       "    .dataframe thead th {\n",
       "        text-align: right;\n",
       "    }\n",
       "</style>\n",
       "<table border=\"1\" class=\"dataframe\">\n",
       "  <thead>\n",
       "    <tr style=\"text-align: right;\">\n",
       "      <th></th>\n",
       "      <th>Time</th>\n",
       "      <th>Click</th>\n",
       "      <th>Error</th>\n",
       "    </tr>\n",
       "  </thead>\n",
       "  <tbody>\n",
       "    <tr>\n",
       "      <th>3</th>\n",
       "      <td>-29.5</td>\n",
       "      <td>-0.5</td>\n",
       "      <td>2.0</td>\n",
       "    </tr>\n",
       "    <tr>\n",
       "      <th>4</th>\n",
       "      <td>-78.0</td>\n",
       "      <td>-1.0</td>\n",
       "      <td>9.5</td>\n",
       "    </tr>\n",
       "    <tr>\n",
       "      <th>5</th>\n",
       "      <td>-29.0</td>\n",
       "      <td>-0.5</td>\n",
       "      <td>9.0</td>\n",
       "    </tr>\n",
       "  </tbody>\n",
       "</table>\n",
       "</div>"
      ],
      "text/plain": [
       "   Time  Click  Error\n",
       "3 -29.5   -0.5    2.0\n",
       "4 -78.0   -1.0    9.5\n",
       "5 -29.0   -0.5    9.0"
      ]
     },
     "execution_count": 17,
     "metadata": {},
     "output_type": "execute_result"
    }
   ],
   "source": [
    "no_abstracts = [pandas_list[2],pandas_list[3]]\n",
    "no_abstracts = pd.concat([each.stack() for each in no_abstracts],axis=1)\\\n",
    "             .apply(lambda x:x.mean(),axis=1)\\\n",
    "             .unstack()\n",
    "\n",
    "print(\"Entity Abstracts\")\n",
    "no_abstracts=no_abstracts.iloc[3:6].sub(baselines.iloc[3:6])\n",
    "no_abstracts"
   ]
  },
  {
   "cell_type": "code",
   "execution_count": 18,
   "id": "a508e46e",
   "metadata": {},
   "outputs": [
    {
     "name": "stdout",
     "output_type": "stream",
     "text": [
      "Entity Highlighting\n"
     ]
    },
    {
     "data": {
      "text/html": [
       "<div>\n",
       "<style scoped>\n",
       "    .dataframe tbody tr th:only-of-type {\n",
       "        vertical-align: middle;\n",
       "    }\n",
       "\n",
       "    .dataframe tbody tr th {\n",
       "        vertical-align: top;\n",
       "    }\n",
       "\n",
       "    .dataframe thead th {\n",
       "        text-align: right;\n",
       "    }\n",
       "</style>\n",
       "<table border=\"1\" class=\"dataframe\">\n",
       "  <thead>\n",
       "    <tr style=\"text-align: right;\">\n",
       "      <th></th>\n",
       "      <th>Time</th>\n",
       "      <th>Click</th>\n",
       "      <th>Error</th>\n",
       "    </tr>\n",
       "  </thead>\n",
       "  <tbody>\n",
       "    <tr>\n",
       "      <th>0</th>\n",
       "      <td>4.0</td>\n",
       "      <td>2.5</td>\n",
       "      <td>0.0</td>\n",
       "    </tr>\n",
       "    <tr>\n",
       "      <th>1</th>\n",
       "      <td>3.5</td>\n",
       "      <td>1.5</td>\n",
       "      <td>-1.0</td>\n",
       "    </tr>\n",
       "    <tr>\n",
       "      <th>2</th>\n",
       "      <td>-6.0</td>\n",
       "      <td>0.0</td>\n",
       "      <td>0.0</td>\n",
       "    </tr>\n",
       "  </tbody>\n",
       "</table>\n",
       "</div>"
      ],
      "text/plain": [
       "   Time  Click  Error\n",
       "0   4.0    2.5    0.0\n",
       "1   3.5    1.5   -1.0\n",
       "2  -6.0    0.0    0.0"
      ]
     },
     "execution_count": 18,
     "metadata": {},
     "output_type": "execute_result"
    }
   ],
   "source": [
    "no_highlighting = [pandas_list[4],pandas_list[5]]\n",
    "no_highlighting = pd.concat([each.stack() for each in no_highlighting],axis=1)\\\n",
    "             .apply(lambda x:x.mean(),axis=1)\\\n",
    "             .unstack()\n",
    "\n",
    "print(\"Entity Highlighting\")\n",
    "no_highlighting=no_highlighting.iloc[0:3].sub(baselines.iloc[0:3])\n",
    "no_highlighting"
   ]
  },
  {
   "cell_type": "code",
   "execution_count": 19,
   "id": "cce97ebc",
   "metadata": {},
   "outputs": [
    {
     "name": "stdout",
     "output_type": "stream",
     "text": [
      "Entity Plots\n"
     ]
    },
    {
     "data": {
      "text/html": [
       "<div>\n",
       "<style scoped>\n",
       "    .dataframe tbody tr th:only-of-type {\n",
       "        vertical-align: middle;\n",
       "    }\n",
       "\n",
       "    .dataframe tbody tr th {\n",
       "        vertical-align: top;\n",
       "    }\n",
       "\n",
       "    .dataframe thead th {\n",
       "        text-align: right;\n",
       "    }\n",
       "</style>\n",
       "<table border=\"1\" class=\"dataframe\">\n",
       "  <thead>\n",
       "    <tr style=\"text-align: right;\">\n",
       "      <th></th>\n",
       "      <th>Time</th>\n",
       "      <th>Click</th>\n",
       "      <th>Error</th>\n",
       "    </tr>\n",
       "  </thead>\n",
       "  <tbody>\n",
       "    <tr>\n",
       "      <th>6</th>\n",
       "      <td>38.0</td>\n",
       "      <td>0.0</td>\n",
       "      <td>1.5</td>\n",
       "    </tr>\n",
       "    <tr>\n",
       "      <th>7</th>\n",
       "      <td>13.5</td>\n",
       "      <td>0.0</td>\n",
       "      <td>0.0</td>\n",
       "    </tr>\n",
       "    <tr>\n",
       "      <th>8</th>\n",
       "      <td>19.5</td>\n",
       "      <td>1.0</td>\n",
       "      <td>0.0</td>\n",
       "    </tr>\n",
       "  </tbody>\n",
       "</table>\n",
       "</div>"
      ],
      "text/plain": [
       "   Time  Click  Error\n",
       "6  38.0    0.0    1.5\n",
       "7  13.5    0.0    0.0\n",
       "8  19.5    1.0    0.0"
      ]
     },
     "execution_count": 19,
     "metadata": {},
     "output_type": "execute_result"
    }
   ],
   "source": [
    "no_plots = [pandas_list[6],pandas_list[7]]\n",
    "no_plots = pd.concat([each.stack() for each in no_plots],axis=1)\\\n",
    "             .apply(lambda x:x.mean(),axis=1)\\\n",
    "             .unstack()\n",
    "\n",
    "print(\"Entity Plots\")\n",
    "no_plots=no_plots.iloc[6:9].sub(baselines.iloc[6:9])\n",
    "no_plots"
   ]
  },
  {
   "cell_type": "code",
   "execution_count": 20,
   "id": "0f055924",
   "metadata": {},
   "outputs": [
    {
     "name": "stdout",
     "output_type": "stream",
     "text": [
      "Search Bar\n"
     ]
    },
    {
     "data": {
      "text/html": [
       "<div>\n",
       "<style scoped>\n",
       "    .dataframe tbody tr th:only-of-type {\n",
       "        vertical-align: middle;\n",
       "    }\n",
       "\n",
       "    .dataframe tbody tr th {\n",
       "        vertical-align: top;\n",
       "    }\n",
       "\n",
       "    .dataframe thead th {\n",
       "        text-align: right;\n",
       "    }\n",
       "</style>\n",
       "<table border=\"1\" class=\"dataframe\">\n",
       "  <thead>\n",
       "    <tr style=\"text-align: right;\">\n",
       "      <th></th>\n",
       "      <th>Time</th>\n",
       "      <th>Click</th>\n",
       "      <th>Error</th>\n",
       "    </tr>\n",
       "  </thead>\n",
       "  <tbody>\n",
       "    <tr>\n",
       "      <th>9</th>\n",
       "      <td>19.0</td>\n",
       "      <td>0.5</td>\n",
       "      <td>8.0</td>\n",
       "    </tr>\n",
       "    <tr>\n",
       "      <th>10</th>\n",
       "      <td>17.0</td>\n",
       "      <td>-2.0</td>\n",
       "      <td>0.0</td>\n",
       "    </tr>\n",
       "    <tr>\n",
       "      <th>11</th>\n",
       "      <td>17.5</td>\n",
       "      <td>-1.0</td>\n",
       "      <td>0.0</td>\n",
       "    </tr>\n",
       "  </tbody>\n",
       "</table>\n",
       "</div>"
      ],
      "text/plain": [
       "    Time  Click  Error\n",
       "9   19.0    0.5    8.0\n",
       "10  17.0   -2.0    0.0\n",
       "11  17.5   -1.0    0.0"
      ]
     },
     "execution_count": 20,
     "metadata": {},
     "output_type": "execute_result"
    }
   ],
   "source": [
    "no_search = [pandas_list[8],pandas_list[9]]\n",
    "no_search = pd.concat([each.stack() for each in no_search],axis=1)\\\n",
    "             .apply(lambda x:x.mean(),axis=1)\\\n",
    "             .unstack()\n",
    "\n",
    "print(\"Search Bar\")\n",
    "no_search=no_search.iloc[9:12].sub(baselines.iloc[9:12])\n",
    "no_search"
   ]
  },
  {
   "cell_type": "code",
   "execution_count": 21,
   "id": "2c322852",
   "metadata": {},
   "outputs": [
    {
     "data": {
      "image/png": "[encoded data removed]",
      "text/plain": [
       "<Figure size 960x600 with 1 Axes>"
      ]
     },
     "metadata": {
      "needs_background": "light"
     },
     "output_type": "display_data"
    }
   ],
   "source": [
    "import numpy as np\n",
    "import matplotlib.pyplot as plt\n",
    "\n",
    "N = 3\n",
    "ind = np.arange(N)  # the x locations for the groups\n",
    "width = 0.2       # the width of the bars\n",
    "\n",
    "fig = plt.figure(figsize=(8, 5), dpi=120)\n",
    "fig.suptitle('No Entity Highlighting Performance', fontsize=16)\n",
    "ax = fig.add_subplot(111)\n",
    "\n",
    "yvals = no_highlighting['Time']\n",
    "rects1 = ax.bar(ind, yvals, width, color='r')\n",
    "zvals = no_highlighting['Click']\n",
    "rects2 = ax.bar(ind+width, zvals, width, color='g')\n",
    "kvals = no_highlighting['Error']\n",
    "rects3 = ax.bar(ind+width*2, kvals, width, color='b')\n",
    "\n",
    "plt.axhline(y=0, color='black', linestyle='-')\n",
    "\n",
    "ax.set\n",
    "ax.set_ylabel('Time(s) / Clicks / MSE')\n",
    "ax.set_xticks(ind+width)\n",
    "ax.set_xticklabels( ('Q1', 'Q2', 'Q3') )\n",
    "ax.legend( (rects1[0], rects2[0], rects3[0]), ('Time', 'Clicks', 'MSE') )\n",
    "\n",
    "plt.show()"
   ]
  },
  {
   "cell_type": "code",
   "execution_count": 22,
   "id": "4c14b0a8",
   "metadata": {},
   "outputs": [
    {
     "data": {
      "image/png": "[encoded data removed]",
      "text/plain": [
       "<Figure size 960x600 with 1 Axes>"
      ]
     },
     "metadata": {
      "needs_background": "light"
     },
     "output_type": "display_data"
    }
   ],
   "source": [
    "import numpy as np\n",
    "import matplotlib.pyplot as plt\n",
    "\n",
    "N = 3\n",
    "ind = np.arange(N)  # the x locations for the groups\n",
    "width = 0.2       # the width of the bars\n",
    "\n",
    "fig = plt.figure(figsize=(8, 5), dpi=120)\n",
    "fig.suptitle('No Entity Abstracts Performance', fontsize=16)\n",
    "ax = fig.add_subplot(111)\n",
    "\n",
    "yvals = no_abstracts['Time']\n",
    "rects1 = ax.bar(ind, yvals, width, color='r')\n",
    "zvals = no_abstracts['Click']\n",
    "rects2 = ax.bar(ind+width, zvals, width, color='g')\n",
    "kvals = no_abstracts['Error']\n",
    "rects3 = ax.bar(ind+width*2, kvals, width, color='b')\n",
    "\n",
    "plt.axhline(y=0, color='black', linestyle='-')\n",
    "\n",
    "ax.set\n",
    "ax.set_ylabel('Time(s) / Clicks / MSE')\n",
    "ax.set_xticks(ind+width)\n",
    "ax.set_xticklabels( ('Q4', 'Q5', 'Q6') )\n",
    "ax.legend( (rects1[0], rects2[0], rects3[0]), ('Time', 'Clicks', 'MSE') )\n",
    "\n",
    "plt.show()"
   ]
  },
  {
   "cell_type": "code",
   "execution_count": 23,
   "id": "f12e1683",
   "metadata": {},
   "outputs": [
    {
     "data": {
      "image/png": "[encoded data removed]",
      "text/plain": [
       "<Figure size 960x600 with 1 Axes>"
      ]
     },
     "metadata": {
      "needs_background": "light"
     },
     "output_type": "display_data"
    }
   ],
   "source": [
    "import numpy as np\n",
    "import matplotlib.pyplot as plt\n",
    "\n",
    "N = 3\n",
    "ind = np.arange(N)  # the x locations for the groups\n",
    "width = 0.2       # the width of the bars\n",
    "\n",
    "fig = plt.figure(figsize=(8, 5), dpi=120)\n",
    "fig.suptitle('No Entity Plots Performance', fontsize=16)\n",
    "ax = fig.add_subplot(111)\n",
    "\n",
    "yvals = no_plots['Time']\n",
    "rects1 = ax.bar(ind, yvals, width, color='r')\n",
    "zvals = no_plots['Click']\n",
    "rects2 = ax.bar(ind+width, zvals, width, color='g')\n",
    "kvals = no_plots['Error']\n",
    "rects3 = ax.bar(ind+width*2, kvals, width, color='b')\n",
    "\n",
    "plt.axhline(y=0, color='black', linestyle='-')\n",
    "\n",
    "ax.set\n",
    "ax.set_ylabel('Time(s) / Clicks / MSE')\n",
    "ax.set_xticks(ind+width)\n",
    "ax.set_xticklabels( ('Q7', 'Q8', 'Q9') )\n",
    "ax.legend( (rects1[0], rects2[0], rects3[0]), ('Time', 'Clicks', 'MSE') )\n",
    "\n",
    "plt.show()"
   ]
  },
  {
   "cell_type": "code",
   "execution_count": 24,
   "id": "af7dbc70",
   "metadata": {},
   "outputs": [
    {
     "data": {
      "image/png": "[encoded data removed]",
      "text/plain": [
       "<Figure size 960x600 with 1 Axes>"
      ]
     },
     "metadata": {
      "needs_background": "light"
     },
     "output_type": "display_data"
    }
   ],
   "source": [
    "import numpy as np\n",
    "import matplotlib.pyplot as plt\n",
    "\n",
    "N = 3\n",
    "ind = np.arange(N)  # the x locations for the groups\n",
    "width = 0.2       # the width of the bars\n",
    "\n",
    "fig = plt.figure(figsize=(8, 5), dpi=120)\n",
    "fig.suptitle('No Search Bar Performance', fontsize=16)\n",
    "ax = fig.add_subplot(111)\n",
    "\n",
    "yvals = no_search['Time']\n",
    "rects1 = ax.bar(ind, yvals, width, color='r')\n",
    "zvals = no_search['Click']\n",
    "rects2 = ax.bar(ind+width, zvals, width, color='g')\n",
    "kvals = no_search['Error']\n",
    "rects3 = ax.bar(ind+width*2, kvals, width, color='b')\n",
    "\n",
    "plt.axhline(y=0, color='black', linestyle='-')\n",
    "\n",
    "ax.set\n",
    "ax.set_ylabel('Time(s) / Clicks / MSE')\n",
    "ax.set_xticks(ind+width)\n",
    "ax.set_xticklabels( ('Q7', 'Q8', 'Q9') )\n",
    "ax.legend( (rects1[0], rects2[0], rects3[0]), ('Time', 'Clicks', 'MSE') )\n",
    "\n",
    "plt.show()"
   ]
  },
  {
   "cell_type": "code",
   "execution_count": null,
   "id": "4ad2bc52",
   "metadata": {},
   "outputs": [],
   "source": []
  },
  {
   "cell_type": "code",
   "execution_count": null,
   "id": "a94c55f6",
   "metadata": {},
   "outputs": [],
   "source": []
  },
  {
   "cell_type": "code",
   "execution_count": null,
   "id": "8c153b9f",
   "metadata": {},
   "outputs": [],
   "source": []
  }
 ],
 "metadata": {
  "kernelspec": {
   "display_name": "Python 3 (ipykernel)",
   "language": "python",
   "name": "python3"
  },
  "language_info": {
   "codemirror_mode": {
    "name": "ipython",
    "version": 3
   },
   "file_extension": ".py",
   "mimetype": "text/x-python",
   "name": "python",
   "nbconvert_exporter": "python",
   "pygments_lexer": "ipython3",
   "version": "3.9.12"
  }
 },
 "nbformat": 4,
 "nbformat_minor": 5
}
